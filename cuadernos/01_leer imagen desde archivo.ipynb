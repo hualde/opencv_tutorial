{
 "cells": [
  {
   "cell_type": "markdown",
   "id": "b841c16a",
   "metadata": {},
   "source": [
    "En esta primera entrada sobre los fundamentos de la visión artificial utilizando OpenCV veremos como importar una imagen desde nuestro ordenador y veremos también cómo mostrar el contenido esta imagen en pantalla "
   ]
  },
  {
   "cell_type": "markdown",
   "id": "ee5e0d57",
   "metadata": {},
   "source": [
    "De este modo podremos empezar a trabjar con nuestra imagen, editándola y haciendo cambios sobre esta  "
   ]
  },
  {
   "cell_type": "markdown",
   "id": "3957684c",
   "metadata": {},
   "source": [
    "lo primero que haremos será importar la librería opencv en nuestro ordenador , para ello escribiremos:"
   ]
  },
  {
   "cell_type": "code",
   "execution_count": 2,
   "id": "f1c6a117",
   "metadata": {},
   "outputs": [],
   "source": [
    "import cv2"
   ]
  },
  {
   "cell_type": "markdown",
   "id": "17571f5d",
   "metadata": {},
   "source": [
    "Después cargamos nuestra imagen que tenemos en la ruta **\"Pictures/alo.jpg\"** en la variable image"
   ]
  },
  {
   "cell_type": "code",
   "execution_count": 4,
   "id": "1807488b",
   "metadata": {},
   "outputs": [],
   "source": [
    "image = cv2.imread('img/alo.jpg')"
   ]
  },
  {
   "cell_type": "markdown",
   "id": "c6408811",
   "metadata": {},
   "source": [
    "Y creamos un bucle while, dentro de este bucle nos fijaremos en la últimas línea, el resto de líneas sólo sirven para cerrar la ventana emergente que nos aparecerá mostrando la imagen. Esta última linea contien la función imshow, que nos mostrará en una pantalla llamada **Alonso en Alpine** la variable **image** que hemos llenado con nuestra foto  "
   ]
  },
  {
   "cell_type": "code",
   "execution_count": 5,
   "id": "d3a6cbb3",
   "metadata": {},
   "outputs": [],
   "source": [
    "while True:\n",
    "    # Press 'q' for exit\n",
    "    exit_key = ord('q')\n",
    "    if cv2.waitKey(exit_key) & 255 == exit_key:\n",
    "        cv2.destroyAllWindows()\n",
    "        break\n",
    "    cv2.imshow('Alonso_en_Alpine', image)"
   ]
  },
  {
   "cell_type": "markdown",
   "id": "932be837",
   "metadata": {},
   "source": [
    "Hay que entender que es un bucle while que se repite constantemente, en el que se nos muestra la variable **image** en cada loop del programa.\n",
    "Si ejecutamos todas estas lineas de código deberíamos ver en una ventana aparte la foto que queremos cargar"
   ]
  },
  {
   "cell_type": "markdown",
   "id": "0931b1ce",
   "metadata": {},
   "source": [
    "<img src=\"./img/alo.jpg\" style=\"height:450px\">"
   ]
  },
  {
   "cell_type": "markdown",
   "id": "c2a77dec",
   "metadata": {},
   "source": [
    "Y así acabamos con esta primera entrada, pequeña pero importante, ya que normalmente o trabajamos desde archivos o desde una cámara externa.Recueda que tienes todo esto en nuestro Github\n",
    "En la siguiente entrada veremos como capturar video desde una webcam."
   ]
  }
 ],
 "metadata": {
  "kernelspec": {
   "display_name": "Python 3",
   "language": "python",
   "name": "python3"
  },
  "language_info": {
   "codemirror_mode": {
    "name": "ipython",
    "version": 3
   },
   "file_extension": ".py",
   "mimetype": "text/x-python",
   "name": "python",
   "nbconvert_exporter": "python",
   "pygments_lexer": "ipython3",
   "version": "3.7.5"
  }
 },
 "nbformat": 4,
 "nbformat_minor": 5
}

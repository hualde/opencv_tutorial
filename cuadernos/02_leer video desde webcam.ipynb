{
 "cells": [
  {
   "cell_type": "markdown",
   "id": "3b9ffd22",
   "metadata": {},
   "source": [
    "En esta segunda entrada vamos a capturar imágenes de nuestra webcam, para ello escribimos en nuestro editor de código preferido los siguiente: "
   ]
  },
  {
   "cell_type": "code",
   "execution_count": 1,
   "id": "f58f8fac",
   "metadata": {},
   "outputs": [],
   "source": [
    "import cv2"
   ]
  },
  {
   "cell_type": "markdown",
   "id": "4baaabcc",
   "metadata": {},
   "source": [
    "importamos la libreria OpenCV"
   ]
  },
  {
   "cell_type": "code",
   "execution_count": 2,
   "id": "31d3292c",
   "metadata": {},
   "outputs": [],
   "source": [
    "cam = cv2.VideoCapture(0)"
   ]
  },
  {
   "cell_type": "markdown",
   "id": "b703f910",
   "metadata": {},
   "source": [
    "creamos nuestra cámara, le decimos que mire en el puerto 0, si no lee o da error probad con otro número como el 1"
   ]
  },
  {
   "cell_type": "code",
   "execution_count": 3,
   "id": "ec37cb4b",
   "metadata": {},
   "outputs": [],
   "source": [
    "while(True):\n",
    "    ret, frame = cam.read()\n",
    "    cv2.imshow('webcam',frame)\n",
    "    \n",
    "    exit_key = ord('q')\n",
    "    if cv2.waitKey(exit_key) & 255 == exit_key:\n",
    "        cv2.destroyAllWindows()\n",
    "        break\n",
    "        \n",
    "cv2.destroyAllWindows()\n",
    "cam.release()"
   ]
  },
  {
   "cell_type": "markdown",
   "id": "3963f226",
   "metadata": {},
   "source": [
    "Por último ejecutamos un bucle *while* infinito, en el que almacenaremos en la variable **frame** cada frame de la imagen: "
   ]
  },
  {
   "cell_type": "markdown",
   "id": "47329ae7",
   "metadata": {},
   "source": [
    "    ret,frame = cam.read()"
   ]
  },
  {
   "cell_type": "markdown",
   "id": "b6f3c985",
   "metadata": {},
   "source": [
    "Por último mostramos cada frame en pantalla "
   ]
  },
  {
   "cell_type": "markdown",
   "id": "b85db616",
   "metadata": {},
   "source": [
    "    cv2.imshow('webcam',frame)"
   ]
  },
  {
   "cell_type": "markdown",
   "id": "2817e844",
   "metadata": {},
   "source": [
    "El resto de código es para cerrar la ventana donde se muestra el video y para que al cerrar la aplicación libere la camaraweb "
   ]
  },
  {
   "cell_type": "markdown",
   "id": "3314636e",
   "metadata": {},
   "source": [
    "Si todo va bien al ejecutar este pequeño código veremos  las imagenes de nuedtra webcam. "
   ]
  },
  {
   "cell_type": "markdown",
   "id": "b682d825",
   "metadata": {},
   "source": [
    "Pues bien, ya tenemos las dos maneras de nutrirnos de imágenes, en las siguientes entradas veremos cómo se descomponen los colores de las imagenes,cómo estas en realidad no son mas que matrices de varias dimensiones,...."
   ]
  }
 ],
 "metadata": {
  "kernelspec": {
   "display_name": "Python 3",
   "language": "python",
   "name": "python3"
  },
  "language_info": {
   "codemirror_mode": {
    "name": "ipython",
    "version": 3
   },
   "file_extension": ".py",
   "mimetype": "text/x-python",
   "name": "python",
   "nbconvert_exporter": "python",
   "pygments_lexer": "ipython3",
   "version": "3.7.5"
  }
 },
 "nbformat": 4,
 "nbformat_minor": 5
}
